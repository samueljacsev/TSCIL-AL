{
 "cells": [
  {
   "cell_type": "code",
   "execution_count": 68,
   "id": "1338c4c3",
   "metadata": {},
   "outputs": [],
   "source": [
    "import pandas as pd\n",
    "import numpy as np\n",
    "import os"
   ]
  },
  {
   "cell_type": "code",
   "execution_count": 78,
   "id": "a0820f2a",
   "metadata": {},
   "outputs": [],
   "source": [
    "# define the filtes to be used\n",
    "data_filter = ['uwave', 'har'] # \n",
    "cycles_filter = ['5'] # 5, 10"
   ]
  },
  {
   "cell_type": "code",
   "execution_count": 99,
   "id": "b5ccebfc",
   "metadata": {},
   "outputs": [
    {
     "name": "stdout",
     "output_type": "stream",
     "text": [
      "['uwave/Uncertainty_margin_cycle_5_uwave.csv', 'uwave/RandomIter_cycle_5_uwave.csv', 'uwave/Random_cycle_5_uwave.csv', 'uwave/Uncertainty_least_confidence_cycle_5_uwave.csv', 'uwave/Uncertainty_entropy_cycle_5_uwave.csv', 'har/Uncertainty_least_confidence_cycle_5_har.csv', 'har/Uncertainty_margin_cycle_5_har.csv', 'har/Uncertainty_entropy_cycle_5_har.csv', 'har/RandomIter_cycle_5_har.csv', 'har/Random_cycle_5_har.csv']\n"
     ]
    }
   ],
   "source": [
    "filtered_files = []\n",
    "for foldername in data_filter:\n",
    "    files = os.listdir(foldername)\n",
    "    for file in files:\n",
    "        if file.split('_')[-2] in cycles_filter:\n",
    "            filtered_files.append(os.path.join(foldername, file))\n",
    "print(filtered_files)"
   ]
  },
  {
   "cell_type": "code",
   "execution_count": 100,
   "id": "ffe239d9",
   "metadata": {},
   "outputs": [],
   "source": [
    "def calculate_average_forgetting(df):\n",
    "    \"\"\"\n",
    "    Calculate the average forgetting for each cycle in the DataFrame.\n",
    "\n",
    "    :param df: DataFrame containing task accuracies and cycles.\n",
    "    :return: List of average forgetting values for each cycle.\n",
    "    \"\"\"\n",
    "    # Identify task accuracy columns\n",
    "    task_columns = [col for col in df.columns if col.startswith(\"task_\")]\n",
    "    num_tasks = len(task_columns)\n",
    "\n",
    "    # Initialize a list to store forgetting values\n",
    "    forgetting_values = []\n",
    "\n",
    "    # Iterate through each cycle (row in the DataFrame)\n",
    "    for i in range(len(df)):\n",
    "        forgetting_sum = 0\n",
    "        count = 0\n",
    "\n",
    "        # Iterate through all previous tasks (j < i)\n",
    "        for j in range(num_tasks):\n",
    "            # Only consider tasks that have been learned before (non-zero values in previous rows)\n",
    "            if df.iloc[:i, df.columns.get_loc(task_columns[j])].max() > 0:\n",
    "                max_akj = df.iloc[:i, df.columns.get_loc(task_columns[j])].max()  # max accuracy for task j before task i\n",
    "                aij = df.iloc[i, df.columns.get_loc(task_columns[j])]  # accuracy for task j after learning task i\n",
    "                forgetting_sum += max_akj - aij\n",
    "                count += 1\n",
    "\n",
    "        # Calculate average forgetting for the current cycle\n",
    "        avg_forgetting = forgetting_sum / count if count > 0 else 0\n",
    "        forgetting_values.append(avg_forgetting)\n",
    "\n",
    "    return forgetting_values"
   ]
  },
  {
   "cell_type": "code",
   "execution_count": 102,
   "id": "d4a238ff",
   "metadata": {},
   "outputs": [
    {
     "name": "stdout",
     "output_type": "stream",
     "text": [
      "uwave/Uncertainty_margin_cycle_5_uwave.csv\n",
      "uwave/RandomIter_cycle_5_uwave.csv\n",
      "uwave/Random_cycle_5_uwave.csv\n",
      "uwave/Uncertainty_least_confidence_cycle_5_uwave.csv\n",
      "uwave/Uncertainty_entropy_cycle_5_uwave.csv\n",
      "har/Uncertainty_least_confidence_cycle_5_har.csv\n",
      "har/Uncertainty_margin_cycle_5_har.csv\n",
      "har/Uncertainty_entropy_cycle_5_har.csv\n",
      "har/RandomIter_cycle_5_har.csv\n",
      "har/Random_cycle_5_har.csv\n"
     ]
    }
   ],
   "source": [
    "for path in filtered_files:\n",
    "    print(path)\n",
    "    df = pd.read_csv(path)\n",
    "    df = df.groupby(['task', 'cycle',]).mean() # mean over all (default=5) runs\n",
    "    df.drop(columns=['run'], inplace=True)\n",
    "    # unpack task column\n",
    "    df['task'] = df.index.get_level_values(0)\n",
    "    df['cycle'] = df.index.get_level_values(1)\n",
    "    df = df.reset_index(drop=True)\n",
    "    task_cols = [c for c in df.columns if c.startswith('task_')]\n",
    "\n",
    "    # calculate the average learning accuracy for each cycle\n",
    "    df['average_learning_accuracy'] = df.apply(\n",
    "    lambda row: np.mean(row[task_cols]), axis=1)\n",
    "\n",
    "    df['average_accuracy'] = df.apply(\n",
    "    lambda row: np.mean([v for v in row[task_cols] if v > 1e-5]), axis=1)\n",
    "\n",
    "    # calculate the average forgetting for each cycle\n",
    "    forgetting_values = calculate_average_forgetting(df)\n",
    "    df['average_forgetting'] = forgetting_values\n",
    "\n",
    "    dir = os.path.dirname(path)\n",
    "    file = path[len(dir)+1:]\n",
    "    df.to_csv(os.path.join(dir+'_scores', 'score_'+ file), index=False)\n",
    "    \n",
    "    "
   ]
  }
 ],
 "metadata": {
  "kernelspec": {
   "display_name": "datalab",
   "language": "python",
   "name": "python3"
  },
  "language_info": {
   "codemirror_mode": {
    "name": "ipython",
    "version": 3
   },
   "file_extension": ".py",
   "mimetype": "text/x-python",
   "name": "python",
   "nbconvert_exporter": "python",
   "pygments_lexer": "ipython3",
   "version": "3.13.2"
  }
 },
 "nbformat": 4,
 "nbformat_minor": 5
}
